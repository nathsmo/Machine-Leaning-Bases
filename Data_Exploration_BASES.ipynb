{
  "nbformat": 4,
  "nbformat_minor": 0,
  "metadata": {
    "colab": {
      "name": "Data_Exploration_BASES.ipynb",
      "version": "0.3.2",
      "provenance": [],
      "include_colab_link": true
    },
    "kernelspec": {
      "name": "python3",
      "display_name": "Python 3"
    }
  },
  "cells": [
    {
      "cell_type": "markdown",
      "metadata": {
        "id": "view-in-github",
        "colab_type": "text"
      },
      "source": [
        "<a href=\"https://colab.research.google.com/github/nathsmo/Machine-Leaning-Bases/blob/master/Data_Exploration_BASES.ipynb\" target=\"_parent\"><img src=\"https://colab.research.google.com/assets/colab-badge.svg\" alt=\"Open In Colab\"/></a>"
      ]
    },
    {
      "cell_type": "markdown",
      "metadata": {
        "id": "M1l1Dw5CgS0f",
        "colab_type": "text"
      },
      "source": [
        "# Generalizations\n",
        "\n",
        "* It is of common use to name your dataframe df, that's why you will find the naming of the dataset in that way.\n",
        "\n",
        "* Libraries may be imported with a byname, for example: pandas as pd. It's easier to program the library's funtions with smaller names."
      ]
    },
    {
      "cell_type": "markdown",
      "metadata": {
        "id": "hRG0KhkVe6Iu",
        "colab_type": "text"
      },
      "source": [
        "# Using pandas library\n",
        "\n",
        "##  To Import pandas library"
      ]
    },
    {
      "cell_type": "code",
      "metadata": {
        "id": "Dhky295zfCrk",
        "colab_type": "code",
        "colab": {}
      },
      "source": [
        "import pandas as pd"
      ],
      "execution_count": 0,
      "outputs": []
    },
    {
      "cell_type": "markdown",
      "metadata": {
        "id": "OuB4i34veqUX",
        "colab_type": "text"
      },
      "source": [
        "## Import dataset from pandas from file"
      ]
    },
    {
      "cell_type": "code",
      "metadata": {
        "id": "pcEXTrD1eqc2",
        "colab_type": "code",
        "colab": {}
      },
      "source": [
        "df = pd.read_csv('file.csv', sep = ',')\n",
        "df = pd.DataFrame(data=df)"
      ],
      "execution_count": 0,
      "outputs": []
    },
    {
      "cell_type": "markdown",
      "metadata": {
        "id": "h_4OD5zie19m",
        "colab_type": "text"
      },
      "source": [
        "## Import dataset from pandas from link"
      ]
    },
    {
      "cell_type": "code",
      "metadata": {
        "id": "iT8XffLRe2Er",
        "colab_type": "code",
        "colab": {}
      },
      "source": [
        "df = pd.read_csv('https://raw.githubusercontent.com/fivethirtyeight/data/master/masculinity-survey/raw-responses.csv', sep = ',')\n",
        "df = pd.DataFrame(data=df)"
      ],
      "execution_count": 0,
      "outputs": []
    },
    {
      "cell_type": "markdown",
      "metadata": {
        "id": "U_koQwQdCZyJ",
        "colab_type": "text"
      },
      "source": [
        "## Search through the head of the dataset (top 10 cells)"
      ]
    },
    {
      "cell_type": "code",
      "metadata": {
        "id": "aJcC-9f3CZ7g",
        "colab_type": "code",
        "colab": {}
      },
      "source": [
        "df.head()"
      ],
      "execution_count": 0,
      "outputs": []
    },
    {
      "cell_type": "markdown",
      "metadata": {
        "id": "Qc8vBNnVZRjE",
        "colab_type": "text"
      },
      "source": [
        "## Describe for general data"
      ]
    },
    {
      "cell_type": "code",
      "metadata": {
        "id": "5TgK1g7ZZRrH",
        "colab_type": "code",
        "colab": {}
      },
      "source": [
        "df.describe()"
      ],
      "execution_count": 0,
      "outputs": []
    },
    {
      "cell_type": "markdown",
      "metadata": {
        "id": "xrjNmbYzZp53",
        "colab_type": "text"
      },
      "source": [
        "## Sum of NA in data"
      ]
    },
    {
      "cell_type": "code",
      "metadata": {
        "id": "0QNhZSW0ZqCd",
        "colab_type": "code",
        "colab": {}
      },
      "source": [
        "df.isna().sum()"
      ],
      "execution_count": 0,
      "outputs": []
    }
  ]
}